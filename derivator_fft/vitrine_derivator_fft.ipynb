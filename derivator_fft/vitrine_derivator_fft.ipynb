{
 "cells": [
  {
   "cell_type": "code",
   "source": [
    "%reload_ext autoreload\n",
    "%autoreload 2"
   ],
   "metadata": {
    "id": "i2mcRXu9h4aD",
    "executionInfo": {
     "status": "ok",
     "timestamp": 1662379332072,
     "user_tz": -120,
     "elapsed": 264,
     "user": {
      "displayName": "vincent vigon",
      "userId": "09456169185020192907"
     }
    }
   },
   "execution_count": 3,
   "outputs": []
  },
  {
   "cell_type": "code",
   "source": [
    "#%%\n",
    "import os\n",
    "if not os.path.exists(\"../small_libs\"):\n",
    "    print(\"the directory small_libs is created\")\n",
    "    !git clone https://github.com/vincentvigon/small_libs\n",
    "    %cd small_libs\n",
    "else:\n",
    "    print(\"the directory small_libs is updated\")\n",
    "    !git pull https://github.com/vincentvigon/small_libs"
   ],
   "metadata": {
    "colab": {
     "base_uri": "https://localhost:8080/"
    },
    "id": "tZwLHjW8gtD1",
    "executionInfo": {
     "status": "ok",
     "timestamp": 1662379342662,
     "user_tz": -120,
     "elapsed": 597,
     "user": {
      "displayName": "vincent vigon",
      "userId": "09456169185020192907"
     }
    },
    "outputId": "033189a7-c61d-4d11-c813-d9d7d6103aa4"
   },
   "execution_count": 4,
   "outputs": [
    {
     "output_type": "stream",
     "name": "stdout",
     "text": [
      "the directory small_libs is updated\n",
      "From https://github.com/vincentvigon/small_libs\n",
      " * branch            HEAD       -> FETCH_HEAD\n",
      "Already up to date.\n"
     ]
    }
   ]
  },
  {
   "cell_type": "code",
   "execution_count": 5,
   "metadata": {
    "collapsed": true,
    "id": "NXHqR6TvgpvC",
    "colab": {
     "base_uri": "https://localhost:8080/",
     "height": 339
    },
    "executionInfo": {
     "status": "error",
     "timestamp": 1662379347051,
     "user_tz": -120,
     "elapsed": 284,
     "user": {
      "displayName": "vincent vigon",
      "userId": "09456169185020192907"
     }
    },
    "outputId": "69819a72-0f07-462f-c4c4-9dfd025d7f1f"
   },
   "outputs": [
    {
     "output_type": "error",
     "ename": "ModuleNotFoundError",
     "evalue": "ignored",
     "traceback": [
      "\u001B[0;31m---------------------------------------------------------------------------\u001B[0m",
      "\u001B[0;31mModuleNotFoundError\u001B[0m                       Traceback (most recent call last)",
      "\u001B[0;32m<ipython-input-5-b82719d9eed1>\u001B[0m in \u001B[0;36m<module>\u001B[0;34m\u001B[0m\n\u001B[1;32m      4\u001B[0m \u001B[0;32mimport\u001B[0m \u001B[0mtime\u001B[0m\u001B[0;34m\u001B[0m\u001B[0;34m\u001B[0m\u001B[0m\n\u001B[1;32m      5\u001B[0m \u001B[0;34m\u001B[0m\u001B[0m\n\u001B[0;32m----> 6\u001B[0;31m \u001B[0;32mfrom\u001B[0m \u001B[0mderivator_fft\u001B[0m\u001B[0;34m.\u001B[0m\u001B[0mderivator\u001B[0m \u001B[0;32mimport\u001B[0m \u001B[0mDerivator_fft\u001B[0m\u001B[0;34m\u001B[0m\u001B[0;34m\u001B[0m\u001B[0m\n\u001B[0m",
      "\u001B[0;31mModuleNotFoundError\u001B[0m: No module named 'derivator_fft'",
      "",
      "\u001B[0;31m---------------------------------------------------------------------------\u001B[0;32m\nNOTE: If your import is failing due to a missing package, you can\nmanually install dependencies using either !pip or !apt.\n\nTo view examples of installing some common dependencies, click the\n\"Open Examples\" button below.\n\u001B[0;31m---------------------------------------------------------------------------\u001B[0m\n"
     ],
     "errorDetails": {
      "actions": [
       {
        "action": "open_url",
        "actionText": "Open Examples",
        "url": "/notebooks/snippets/importing_libraries.ipynb"
       }
      ]
     }
    }
   ],
   "source": [
    "import tensorflow as tf\n",
    "import numpy as np\n",
    "import matplotlib.pyplot as plt\n",
    "import time\n",
    "\n",
    "from derivator_fft.derivator import Derivator_fft"
   ]
  },
  {
   "cell_type": "markdown",
   "source": [
    "# Derivator"
   ],
   "metadata": {
    "collapsed": false,
    "pycharm": {
     "name": "#%% md\n"
    },
    "id": "s7SHgCXUgpvG"
   }
  },
  {
   "cell_type": "markdown",
   "source": [
    "## Calcul long d'une divergence"
   ],
   "metadata": {
    "collapsed": false,
    "pycharm": {
     "name": "#%% md\n"
    },
    "id": "FP3OKyVUgpvH"
   }
  },
  {
   "cell_type": "code",
   "execution_count": null,
   "outputs": [],
   "source": [
    "def test_divergence(N,graph_acceleration):\n",
    "    a0=tf.linspace(0,1,N)\n",
    "    a1=tf.linspace(0,1,N)\n",
    "    a2=tf.linspace(0,1,N)\n",
    "    a3=tf.linspace(0,1,N)\n",
    "\n",
    "    a0_=a0[:,None,None,None]\n",
    "    a1_=a1[None,:,None,None]\n",
    "    a2_=a2[None,None,:,None]\n",
    "    a3_=a3[None,None,None,:]\n",
    "\n",
    "    func=lambda a0,a1,a2,a3:a0**2+a1**2+a2**2+a3**2\n",
    "    div_func=lambda a0,a1,a2,a3: 2*a0+2*a1+2*a2+2*a3\n",
    "\n",
    "    F=func(a0_,a1_,a2_,a3_)\n",
    "    div_F=div_func(a0_,a1_,a2_,a3_)\n",
    "\n",
    "    ti0=time.time()\n",
    "    derivator_fft=Derivator_fft(F,[0,1,2,3],[1,1,1,1],lambda a0,a1,a2,a3:a0+a1+a2+a3,graph_acceleration=graph_acceleration)\n",
    "    print(\"création de l'objet, durée:\",time.time()-ti0)\n",
    "\n",
    "    ti0=time.time()\n",
    "    div_F_pred=derivator_fft.D(F)\n",
    "    print(\"premier appel de la dérivation:\",time.time()-ti0)\n",
    "    ti0=time.time()\n",
    "    div_F_pred=derivator_fft.D(F)\n",
    "    print(\"second appel de la dérivation:\",time.time()-ti0)\n",
    "\n",
    "    error=tf.reduce_mean(tf.abs(div_F-div_F_pred))\n",
    "    print(\"error\",error)"
   ],
   "metadata": {
    "pycharm": {
     "name": "#%%\n"
    },
    "id": "plEIBumrgpvH"
   }
  },
  {
   "cell_type": "code",
   "execution_count": null,
   "outputs": [],
   "source": [
    "\n"
   ],
   "metadata": {
    "pycharm": {
     "name": "#%%\n"
    },
    "id": "IWP60X-ogpvI"
   }
  },
  {
   "cell_type": "code",
   "execution_count": null,
   "outputs": [
    {
     "name": "stdout",
     "output_type": "stream",
     "text": [
      "0 shape ieme tenseur: [36, 1, 1, 1]\n",
      "1 shape ieme tenseur: [1, 36, 1, 1]\n",
      "2 shape ieme tenseur: [1, 1, 36, 1]\n",
      "3 shape ieme tenseur: [1, 1, 1, 36]\n",
      "création de l'objet, durée: 0.015306949615478516\n",
      "traçage de la méthode de dérivation du Derivator_fft, temps de traçage: 0.00017523765563964844\n",
      "premier appel de la dérivation: 4.697309970855713\n",
      "traçage de la méthode de dérivation du Derivator_fft, temps de traçage: 0.00018095970153808594\n",
      "WARNING:tensorflow:5 out of the last 5 calls to <bound method Derivator_fft.D_initial of <derivator_fft.derivator.Derivator_fft object at 0x1642947f0>> triggered tf.function retracing. Tracing is expensive and the excessive number of tracings could be due to (1) creating @tf.function repeatedly in a loop, (2) passing tensors with different shapes, (3) passing Python objects instead of tensors. For (1), please define your @tf.function outside of the loop. For (2), @tf.function has experimental_relax_shapes=True option that relaxes argument shapes that can avoid unnecessary retracing. For (3), please refer to https://www.tensorflow.org/guide/function#controlling_retracing and https://www.tensorflow.org/api_docs/python/tf/function for  more details.\n",
      "second appel de la dérivation: 4.538576126098633\n",
      "error tf.Tensor(1.2188206825055057, shape=(), dtype=float64)\n",
      "CPU times: user 11.1 s, sys: 101 ms, total: 11.2 s\n",
      "Wall time: 9.27 s\n"
     ]
    }
   ],
   "source": [
    "%%time\n",
    "test_divergence(30,True)"
   ],
   "metadata": {
    "pycharm": {
     "name": "#%%\n"
    },
    "id": "zIu3g38dgpvJ",
    "outputId": "301780aa-c115-4928-f78b-f09f92ce37df"
   }
  },
  {
   "cell_type": "code",
   "execution_count": null,
   "outputs": [
    {
     "name": "stdout",
     "output_type": "stream",
     "text": [
      "0 shape ieme tenseur: [36, 1, 1, 1]\n",
      "1 shape ieme tenseur: [1, 36, 1, 1]\n",
      "2 shape ieme tenseur: [1, 1, 36, 1]\n",
      "3 shape ieme tenseur: [1, 1, 1, 36]\n",
      "création de l'objet, durée: 0.01532602310180664\n",
      "premier appel de la dérivation: 4.449671983718872\n",
      "second appel de la dérivation: 4.260905027389526\n",
      "error tf.Tensor(1.2188206825055057, shape=(), dtype=float64)\n",
      "CPU times: user 11.2 s, sys: 214 ms, total: 11.4 s\n",
      "Wall time: 8.75 s\n"
     ]
    }
   ],
   "source": [
    "%%time\n",
    "test_divergence(30,False)"
   ],
   "metadata": {
    "pycharm": {
     "name": "#%%\n"
    },
    "id": "fIKmc42ngpvK",
    "outputId": "d144f652-6f01-4695-a81b-e403324ac61d"
   }
  },
  {
   "cell_type": "code",
   "execution_count": null,
   "outputs": [],
   "source": [],
   "metadata": {
    "pycharm": {
     "name": "#%%\n"
    },
    "id": "nT05FbHdgpvL"
   }
  }
 ],
 "metadata": {
  "kernelspec": {
   "display_name": "Python 3",
   "language": "python",
   "name": "python3"
  },
  "language_info": {
   "codemirror_mode": {
    "name": "ipython",
    "version": 2
   },
   "file_extension": ".py",
   "mimetype": "text/x-python",
   "name": "python",
   "nbconvert_exporter": "python",
   "pygments_lexer": "ipython2",
   "version": "2.7.6"
  },
  "colab": {
   "provenance": []
  }
 },
 "nbformat": 4,
 "nbformat_minor": 0
}